{
  "nbformat": 4,
  "nbformat_minor": 0,
  "metadata": {
    "colab": {
      "provenance": [],
      "authorship_tag": "ABX9TyNF4qRI54ZrsRpkHyPk1IdL",
      "include_colab_link": true
    },
    "kernelspec": {
      "name": "python3",
      "display_name": "Python 3"
    },
    "language_info": {
      "name": "python"
    }
  },
  "cells": [
    {
      "cell_type": "markdown",
      "metadata": {
        "id": "view-in-github",
        "colab_type": "text"
      },
      "source": [
        "<a href=\"https://colab.research.google.com/github/pbm21sdp/peepee-prelucrarea-pozelor-/blob/main/Untitled4.ipynb\" target=\"_parent\"><img src=\"https://colab.research.google.com/assets/colab-badge.svg\" alt=\"Open In Colab\"/></a>"
      ]
    },
    {
      "cell_type": "code",
      "execution_count": 47,
      "metadata": {
        "colab": {
          "base_uri": "https://localhost:8080/",
          "height": 1000
        },
        "id": "bi8EQRynAG-y",
        "outputId": "6dee5b92-4d38-47e6-80c2-eed3ca7e1850"
      },
      "outputs": [
        {
          "output_type": "stream",
          "name": "stdout",
          "text": [
            "Features: tensor([-3.]) \n",
            "Label: tensor([-3.9807])\n"
          ]
        },
        {
          "output_type": "display_data",
          "data": {
            "text/plain": [
              "<Figure size 640x480 with 1 Axes>"
            ],
            "image/png": "[encoded data removed]"
          },
          "metadata": {}
        },
        {
          "output_type": "stream",
          "name": "stdout",
          "text": [
            "Epoch 1, Loss 0.313851\n",
            "Epoch 2, Loss 0.074197\n",
            "Epoch 3, Loss 0.019733\n",
            "Epoch 4, Loss 0.005599\n",
            "Epoch 5, Loss 0.001596\n",
            "Epoch 6, Loss 0.000517\n",
            "Epoch 7, Loss 0.000214\n",
            "Epoch 8, Loss 0.000134\n",
            "Epoch 9, Loss 0.000109\n",
            "Epoch 10, Loss 0.000103\n",
            "Epoch 11, Loss 0.000101\n",
            "Epoch 12, Loss 0.000100\n",
            "Epoch 13, Loss 0.000100\n",
            "Epoch 14, Loss 0.000100\n",
            "Epoch 15, Loss 0.000100\n",
            "Epoch 16, Loss 0.000101\n",
            "Epoch 17, Loss 0.000100\n",
            "Epoch 18, Loss 0.000100\n",
            "Epoch 19, Loss 0.000099\n",
            "Epoch 20, Loss 0.000099\n",
            "Epoch 21, Loss 0.000100\n",
            "Epoch 22, Loss 0.000099\n",
            "Epoch 23, Loss 0.000099\n",
            "Epoch 24, Loss 0.000100\n",
            "Epoch 25, Loss 0.000101\n",
            "Error in estimating w: tensor([0.0003])\n",
            "Error in estimating b: tensor([-0.0021])\n",
            "tensor([1.])\n",
            "tensor([0.9997])\n",
            "-1.0\n",
            "tensor([-0.9979])\n"
          ]
        }
      ],
      "source": [
        "import torch\n",
        "import matplotlib.pyplot as plt\n",
        "import numpy as np\n",
        "from torch import nn\n",
        "\n",
        "torch.manual_seed(42)\n",
        "np.random.seed(42)\n",
        "\n",
        "def synthetic_data(w, b, num_examples):\n",
        "    \"\"\"Generate y = Xw + b + noise.\"\"\"\n",
        "    X = torch.arange(-3, 3, 0.1).reshape(60, 1)\n",
        "    y = X @ w + b\n",
        "    y += torch.normal(0, 0.01, y.shape)\n",
        "    return X, y.reshape(-1, 1)\n",
        "\n",
        "true_w = torch.tensor([1.0])\n",
        "true_b = -1.0\n",
        "features, labels = synthetic_data(true_w, true_b, 60)\n",
        "\n",
        "print('Features:', features[0], '\\nLabel:', labels[0])\n",
        "\n",
        "plt.scatter(features[:, 0].detach().numpy(), labels.detach().numpy(), s=1)\n",
        "plt.show()\n",
        "\n",
        "def load_array(data_arrays, batch_size, is_train=True):\n",
        "    \"\"\"Construct a PyTorch data iterator.\"\"\"\n",
        "    dataset = torch.utils.data.TensorDataset(*data_arrays)\n",
        "    return torch.utils.data.DataLoader(dataset, batch_size, shuffle=is_train)\n",
        "\n",
        "batch_size = 10\n",
        "data_iter = load_array((features, labels), batch_size)\n",
        "\n",
        "net = nn.Sequential(nn.Linear(1, 1))\n",
        "\n",
        "net[0].weight.data.normal_(0, 0.01)\n",
        "net[0].bias.data.fill_(0)\n",
        "\n",
        "loss = nn.MSELoss()\n",
        "\n",
        "optimizer = torch.optim.SGD(net.parameters(), lr=0.05)\n",
        "\n",
        "num_epochs = 25\n",
        "for epoch in range(num_epochs):\n",
        "    for X, y in data_iter:\n",
        "        l = loss(net(X) ,y)\n",
        "\n",
        "        w = net[0].weight.data\n",
        "        b = net[0].bias.data\n",
        "\n",
        "        l.backward()\n",
        "\n",
        "        vWL = net[0].weight.grad.data\n",
        "        vBL = net[0].bias.grad.data\n",
        "\n",
        "        net[0].weight.data -= 0.05 * net[0].weight.grad.data\n",
        "        net[0].bias.data -= 0.05 * net[0].bias.grad.data\n",
        "\n",
        "        net[0].weight.grad.data.zero_()\n",
        "        net[0].bias.grad.data.zero_()\n",
        "    l = loss(net(features), labels)\n",
        "    print(f'Epoch {epoch + 1}, Loss {l:f}')\n",
        "\n",
        "\n",
        "w = net[0].weight.data\n",
        "print('Error in estimating w:', true_w - w.reshape(true_w.shape))\n",
        "b = net[0].bias.data\n",
        "print('Error in estimating b:', true_b - b)\n",
        "print(true_w)\n",
        "print(w.reshape(true_w.shape))\n",
        "print(true_b)\n",
        "print(b)\n",
        "\n"
      ]
    }
  ]
}