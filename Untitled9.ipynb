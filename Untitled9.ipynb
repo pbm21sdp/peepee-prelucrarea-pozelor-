{
  "nbformat": 4,
  "nbformat_minor": 0,
  "metadata": {
    "colab": {
      "provenance": [],
      "authorship_tag": "ABX9TyOavlniRjuSpXO1VMyOTwi7",
      "include_colab_link": true
    },
    "kernelspec": {
      "name": "python3",
      "display_name": "Python 3"
    },
    "language_info": {
      "name": "python"
    }
  },
  "cells": [
    {
      "cell_type": "markdown",
      "metadata": {
        "id": "view-in-github",
        "colab_type": "text"
      },
      "source": [
        "<a href=\"https://colab.research.google.com/github/pbm21sdp/peepee-prelucrarea-pozelor-/blob/main/Untitled9.ipynb\" target=\"_parent\"><img src=\"https://colab.research.google.com/assets/colab-badge.svg\" alt=\"Open In Colab\"/></a>"
      ]
    },
    {
      "cell_type": "code",
      "execution_count": 3,
      "metadata": {
        "colab": {
          "base_uri": "https://localhost:8080/"
        },
        "id": "NN8J10kXZaH8",
        "outputId": "924557d6-9dca-4efa-c7f5-9a258d84499e"
      },
      "outputs": [
        {
          "output_type": "stream",
          "name": "stdout",
          "text": [
            "Output shape: torch.Size([5, 1, 4])\n",
            "Hidden state shape: torch.Size([1, 1, 4])\n",
            "Output: tensor([[[ 0.6871, -0.3593,  0.4704, -0.6224]],\n",
            "\n",
            "        [[-0.3548, -0.5317,  0.3520, -0.8332]],\n",
            "\n",
            "        [[ 0.5139, -0.5306, -0.1322, -0.7962]],\n",
            "\n",
            "        [[ 0.1453, -0.1416,  0.4736, -0.6271]],\n",
            "\n",
            "        [[ 0.0465, -0.4846,  0.1393, -0.8029]]], grad_fn=<StackBackward0>)\n"
          ]
        }
      ],
      "source": [
        "import hashlib\n",
        "import os\n",
        "import requests\n",
        "import re\n",
        "import collections\n",
        "import random\n",
        "import torch\n",
        "from torch import nn\n",
        "from torch.nn import functional as F\n",
        "import math\n",
        "import matplotlib.pyplot as plt\n",
        "import zipfile\n",
        "\n",
        "torch.manual_seed(42);\n",
        "\n",
        "rnn = nn.RNN(input_size=2, hidden_size=4, num_layers=1)\n",
        "\n",
        "input = torch.randn(5, 1, 2)\n",
        "h0 = torch.randn(1, 1, 4)\n",
        "\n",
        "output, hn = rnn(input, h0)\n",
        "\n",
        "print(\"Output shape:\", output.shape)\n",
        "print(\"Hidden state shape:\", hn.shape)\n",
        "print(\"Output:\", output)\n"
      ]
    }
  ]
}